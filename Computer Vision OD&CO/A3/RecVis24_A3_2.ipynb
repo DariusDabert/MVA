{
 "cells": [
  {
   "cell_type": "markdown",
   "metadata": {
    "id": "s9wq-qtxGMQ6"
   },
   "source": [
    "#RecVis 2024/2025 - Assignment 3: Sketch image classification competition"
   ]
  },
  {
   "cell_type": "code",
   "execution_count": null,
   "metadata": {
    "colab": {
     "base_uri": "https://localhost:8080/"
    },
    "id": "OPKiWp3ADiLP",
    "outputId": "6eb5f355-fff4-4c1f-f118-00f24183b96d"
   },
   "outputs": [],
   "source": [
    "!pip install -r requirements.txt"
   ]
  },
  {
   "cell_type": "code",
   "execution_count": null,
   "metadata": {
    "colab": {
     "base_uri": "https://localhost:8080/"
    },
    "id": "svS9yUPH_3lV",
    "outputId": "bacc9a1a-2b8d-4c55-8c6b-ec0e27ee0616"
   },
   "outputs": [],
   "source": [
    "!mkdir ~/.kaggle #create the .kaggle folder in your root directory\n",
    "!echo '<PASTE_CONTENTS_OF_KAGGLE_API_JSON>' > ~/.kaggle/kaggle.json #write kaggle API credentials to kaggle.json\n",
    "!chmod 600 ~/.kaggle/kaggle.json  # set permissions\n",
    "!pip install kaggle #install the kaggle library"
   ]
  },
  {
   "cell_type": "code",
   "execution_count": null,
   "metadata": {
    "id": "Uqrs1fHHAc9m"
   },
   "outputs": [],
   "source": [
    "!kaggle competitions download -c mva-recvis-2024\n",
    "!unzip mva-recvis-2024.zip"
   ]
  },
  {
   "cell_type": "code",
   "execution_count": null,
   "metadata": {
    "id": "4HeICFrVYWCS"
   },
   "outputs": [],
   "source": [
    "!mv sketch_recvis2024/sketch_recvis2024/ data_sketches/"
   ]
  },
  {
   "cell_type": "code",
   "execution_count": null,
   "metadata": {
    "colab": {
     "base_uri": "https://localhost:8080/"
    },
    "id": "MQ7kLoK4DMq2",
    "outputId": "36003e3e-da30-40ac-e372-27d1e4310363"
   },
   "outputs": [],
   "source": [
    "!python recvis24_a3/main.py --model_name dinov2 --seed 1 --data data_sketches --experiment \"dinov2\" --epochs 5 --lr 0.0001 --num_workers 2 --batch-size 64"
   ]
  },
  {
   "cell_type": "code",
   "execution_count": null,
   "metadata": {
    "colab": {
     "base_uri": "https://localhost:8080/"
    },
    "id": "pgiT4zimH3d6",
    "outputId": "4321d082-de77-41d1-9a95-fa83a7c6c516"
   },
   "outputs": [],
   "source": [
    "!python recvis24_a3/main_finetune.py --model_name dinov2 --seed 1 --data data_sketches --experiment \"dinov2\" --epochs 3 --lr 0.00001 --num_workers 2 --batch-size 64"
   ]
  },
  {
   "cell_type": "code",
   "execution_count": null,
   "metadata": {
    "id": "GeL9VNzuhk9p"
   },
   "outputs": [],
   "source": [
    "!python recvis24_a3/evaluate.py \\\n",
    "--data data_sketches \\\n",
    "--models dinov2/dinov2.pth \\\n",
    "--model_names dinov2"
   ]
  },
  {
   "cell_type": "code",
   "execution_count": null,
   "metadata": {},
   "outputs": [],
   "source": [
    "!python recvis24_a3/evaluate.py \\\n",
    "--data data_sketches \\\n",
    "--models dinov2/dinov2.pth \\\n",
    "--model_names dinov2"
   ]
  }
 ],
 "metadata": {
  "accelerator": "GPU",
  "colab": {
   "gpuType": "T4",
   "provenance": []
  },
  "kernelspec": {
   "display_name": "Python 3",
   "name": "python3"
  },
  "language_info": {
   "name": "python"
  }
 },
 "nbformat": 4,
 "nbformat_minor": 0
}
