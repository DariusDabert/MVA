{
 "cells": [
  {
   "cell_type": "code",
   "execution_count": null,
   "metadata": {},
   "outputs": [],
   "source": [
    "import numpy as np\n",
    "import matplotlib.pyplot as plt"
   ]
  },
  {
   "cell_type": "code",
   "execution_count": null,
   "metadata": {},
   "outputs": [
    {
     "ename": "",
     "evalue": "",
     "output_type": "error",
     "traceback": [
      "\u001b[1;31mFailed to start the Kernel. \n",
      "\u001b[1;31mEPERM: operation not permitted, scandir '/Users/dariusdabert/Library/Mobile Documents/com~apple~CloudDocs/Documents/MVA/P1/Convex Optimisation'. \n",
      "\u001b[1;31mView Jupyter <a href='command:jupyter.viewOutput'>log</a> for further details."
     ]
    }
   ],
   "source": [
    "def centering_step(Q, p, A, b, t, v0, eps, alpha=0.1, beta=0.7):\n",
    "    \"\"\"\n",
    "    Implements the centering step using Newton's method with logarithmic barriers and backtracking line search.\n",
    "\n",
    "    Parameters:\n",
    "        Q (numpy.ndarray): Positive semidefinite matrix of quadratic terms.\n",
    "        p (numpy.ndarray): Linear term vector.\n",
    "        A (numpy.ndarray): Constraint matrix.\n",
    "        b (numpy.ndarray): Constraint vector.\n",
    "        t (float): Barrier method parameter.\n",
    "        v0 (numpy.ndarray): Initial variable.\n",
    "        eps (float): Target precision.\n",
    "        alpha (float): Line search parameter (typically small, e.g., 0.01).\n",
    "        beta (float): Line search parameter (step size reduction factor, typically 0.5).\n",
    "\n",
    "    Returns:\n",
    "        list: Sequence of variable iterates (vi).\n",
    "    \"\"\"\n",
    "    def objective(v):\n",
    "        \"\"\"Barrier objective function.\"\"\"\n",
    "        return t * (v.T @ Q @ v + p.T @ v) - np.sum(np.log(b - A @ v))\n",
    "\n",
    "    def backtracking_line_search(v, dv, grad):\n",
    "        \"\"\"Backtracking line search to find step size.\"\"\"\n",
    "        step_size = 1.0\n",
    "        while True:\n",
    "            new_v = v + step_size * dv\n",
    "            if np.all(b - A @ new_v > 0) and objective(new_v) <= objective(v) + alpha * step_size * grad.T @ dv:\n",
    "                break\n",
    "            step_size *= beta\n",
    "        return step_size\n",
    "\n",
    "    vi = [v0]\n",
    "    v = v0\n",
    "    i = 0\n",
    "    while True and i < 100:\n",
    "        gradient = t * (2 * Q @ v + p) + A.T @ (1 / (b - A @ v))\n",
    "\n",
    "        D = np.diag(1 / (b - A @ v)**2)\n",
    "        hessian = 2 * t * Q + A.T @ D @ A\n",
    "\n",
    "        # Solve the Newton step (Hessian * dv = -grad)\n",
    "        dv = np.linalg.solve(hessian, -gradient)\n",
    "\n",
    "        decrement = np.sqrt(gradient.T @ -dv)\n",
    "\n",
    "        # Check for convergence\n",
    "        if decrement**2 / 2 <= eps:\n",
    "            break\n",
    "\n",
    "        step_size = backtracking_line_search(v, dv, gradient)\n",
    "\n",
    "        v = v + step_size * dv\n",
    "\n",
    "        vi.append(v)\n",
    "        i += 1\n",
    "\n",
    "    return vi"
   ]
  },
  {
   "cell_type": "code",
   "execution_count": null,
   "metadata": {},
   "outputs": [
    {
     "ename": "",
     "evalue": "",
     "output_type": "error",
     "traceback": [
      "\u001b[1;31mFailed to start the Kernel. \n",
      "\u001b[1;31mEPERM: operation not permitted, scandir '/Users/dariusdabert/Library/Mobile Documents/com~apple~CloudDocs/Documents/MVA/P1/Convex Optimisation'. \n",
      "\u001b[1;31mView Jupyter <a href='command:jupyter.viewOutput'>log</a> for further details."
     ]
    }
   ],
   "source": [
    "def barr_method(Q, p, A, b, v0, eps, mu=10, t0=1):\n",
    "    \"\"\"\n",
    "    Implements the barrier method to solve QP using the centering_step function.\n",
    "\n",
    "    Parameters:\n",
    "        Q (numpy.ndarray): Positive semidefinite matrix of quadratic terms.\n",
    "        p (numpy.ndarray): Linear term vector.\n",
    "        A (numpy.ndarray): Constraint matrix.\n",
    "        b (numpy.ndarray): Constraint vector.\n",
    "        v0 (numpy.ndarray): Initial feasible point.\n",
    "        eps (float): Precision criterion.\n",
    "        mu (float): Scaling parameter for barrier method (e.g., mu > 1).\n",
    "        t0 (float): Initial value of t (e.g., t0 > 0).\n",
    "\n",
    "    Returns:\n",
    "        list: Sequence of variable iterates (vi).\n",
    "    \"\"\"\n",
    "\n",
    "    t = t0\n",
    "    v = v0\n",
    "    vi_seq = [v0]\n",
    "    seq_t = [t0]\n",
    "\n",
    "\n",
    "    while True:\n",
    "\n",
    "        vi = centering_step(Q, p, A, b, t, v, eps)\n",
    "        v = vi[-1]  # Final iterate of centering step\n",
    "        vi_seq.extend(vi[1:])\n",
    "        seq_t += [t] * len(vi[:-1])\n",
    "\n",
    "        # Check for convergence\n",
    "        precision_criterion = len(b) / t\n",
    "        if precision_criterion <= eps:\n",
    "            break\n",
    "\n",
    "        t *= mu\n",
    "\n",
    "    return vi_seq, seq_t"
   ]
  },
  {
   "cell_type": "code",
   "execution_count": null,
   "metadata": {},
   "outputs": [],
   "source": [
    "def test_barrier_method_dual(mu_values, Q, p, A, b, v0, eps):\n",
    "    f_value_per_mu = []\n",
    "    gap_per_mu = []      \n",
    "    final_v_per_mu = [] \n",
    "    t_per_mu = []\n",
    "    surrogate_f_star = None\n",
    "\n",
    "    for mu in mu_values:\n",
    "        vi_seq, seq_t = barr_method(Q, p, A, b, v0, eps, mu=mu)\n",
    "        final_v = vi_seq[-1]\n",
    "        final_v_per_mu.append(final_v)\n",
    "        t_per_mu.append(seq_t)\n",
    "\n",
    "        f_vt = [v.T @ Q @ v + p.T @ v for v in vi_seq]\n",
    "        f_value_per_mu.append(f_vt)\n",
    "\n",
    "        f_min = min(f_vt)\n",
    "        if surrogate_f_star is None or f_min < surrogate_f_star:\n",
    "            surrogate_f_star = f_min\n",
    "\n",
    "    for f_vt in f_value_per_mu:\n",
    "        gap_per_mu.append([f - surrogate_f_star for f in f_vt])\n",
    "\n",
    "    return final_v_per_mu, f_value_per_mu, t_per_mu, gap_per_mu, surrogate_f_star"
   ]
  },
  {
   "cell_type": "code",
   "execution_count": null,
   "metadata": {},
   "outputs": [
    {
     "ename": "",
     "evalue": "",
     "output_type": "error",
     "traceback": [
      "\u001b[1;31mFailed to start the Kernel. \n",
      "\u001b[1;31mEPERM: operation not permitted, scandir '/Users/dariusdabert/Library/Mobile Documents/com~apple~CloudDocs/Documents/MVA/P1/Convex Optimisation'. \n",
      "\u001b[1;31mView Jupyter <a href='command:jupyter.viewOutput'>log</a> for further details."
     ]
    }
   ],
   "source": [
    "def main():\n",
    "    np.random.seed(42)\n",
    "    n, d = 100, 50  \n",
    "    X = np.random.randn(n, d)\n",
    "    y = np.random.randn(n)\n",
    "    lambda_ = 10\n",
    "    m = 2 * d\n",
    "\n",
    "    Q = 0.5 * np.eye(n)  \n",
    "    p = -y  \n",
    "    A = np.vstack([X.T, -X.T]) \n",
    "    b = lambda_ * np.ones(2 * d)  \n",
    "    v0 = np.zeros(n)  \n",
    "    eps = 1e-6\n",
    "\n",
    "    mu_values = [2, 5, 15, 50, 100, 200, 500]\n",
    "    final_v_per_mu, _ , t_per_mu, gap_per_mu, _ = test_barrier_method_dual(mu_values, Q, p, A, b, v0, eps)\n",
    "\n",
    "    plt.figure(figsize=(12, 6))\n",
    "\n",
    "    for i, mu in enumerate(mu_values):\n",
    "        plt.semilogy(gap_per_mu[i], label=f\"gap for μ = {mu}\", color=f\"C{i}\")\n",
    "        \n",
    "        plt.semilogy(m / np.array(t_per_mu[i]), label=f\"precision criterion for μ = {mu}\", linestyle='dashed', color=f\"C{i}\")\n",
    "\n",
    "    plt.xlabel(\"Iteration\")\n",
    "    plt.ylabel(\"Gap f(vt) - f*\")\n",
    "    plt.title(\"Convergence of Barrier Method for Different μ Values\")\n",
    "    plt.legend()\n",
    "    plt.grid(True)\n",
    "    plt.show()\n",
    "\n",
    "\n",
    "    for i, mu in enumerate(mu_values):\n",
    "        print(f\"μ = {mu}, Final solution v: {final_v_per_mu[i]}\")\n",
    "\n",
    "    print(\"\\nAn appropriate μ balances convergence speed and accuracy. Thus, the best μ value is 200.\")\n",
    "\n",
    "    return 0"
   ]
  },
  {
   "cell_type": "code",
   "execution_count": null,
   "metadata": {},
   "outputs": [
    {
     "ename": "",
     "evalue": "",
     "output_type": "error",
     "traceback": [
      "\u001b[1;31mFailed to start the Kernel. \n",
      "\u001b[1;31mEPERM: operation not permitted, scandir '/Users/dariusdabert/Library/Mobile Documents/com~apple~CloudDocs/Documents/MVA/P1/Convex Optimisation'. \n",
      "\u001b[1;31mView Jupyter <a href='command:jupyter.viewOutput'>log</a> for further details."
     ]
    }
   ],
   "source": [
    "main()"
   ]
  },
  {
   "cell_type": "code",
   "execution_count": null,
   "metadata": {},
   "outputs": [],
   "source": []
  }
 ],
 "metadata": {
  "kernelspec": {
   "display_name": "base",
   "language": "python",
   "name": "python3"
  },
  "language_info": {
   "name": "python",
   "version": "3.11.8"
  }
 },
 "nbformat": 4,
 "nbformat_minor": 2
}
